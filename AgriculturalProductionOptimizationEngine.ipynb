{
 "cells": [
  {
   "cell_type": "code",
   "execution_count": 1,
   "id": "7e8f5cc5",
   "metadata": {},
   "outputs": [],
   "source": [
    "# for manipulations\n",
    "import numpy as np\n",
    "import pandas as pd\n",
    "\n",
    "# for data visulaization\n",
    "import matplotlib.pyplot as plt\n",
    "import seaborn as sns\n",
    "\n",
    "# for interactivity\n",
    "from ipywidgets import interact"
   ]
  },
  {
   "cell_type": "code",
   "execution_count": 2,
   "id": "67cc9b1b",
   "metadata": {},
   "outputs": [],
   "source": [
    "# lets read the dataset\n",
    "data = pd.read_csv('data.csv')"
   ]
  },
  {
   "cell_type": "code",
   "execution_count": 3,
   "id": "f2627f7a",
   "metadata": {},
   "outputs": [
    {
     "name": "stdout",
     "output_type": "stream",
     "text": [
      "Shape of the Dataset: (2200, 8)\n"
     ]
    }
   ],
   "source": [
    "# lets check the shape of dataset\n",
    "print(\"Shape of the Dataset:\", data.shape)"
   ]
  },
  {
   "cell_type": "code",
   "execution_count": 4,
   "id": "e5875e6d",
   "metadata": {},
   "outputs": [
    {
     "data": {
      "text/html": [
       "<div>\n",
       "<style scoped>\n",
       "    .dataframe tbody tr th:only-of-type {\n",
       "        vertical-align: middle;\n",
       "    }\n",
       "\n",
       "    .dataframe tbody tr th {\n",
       "        vertical-align: top;\n",
       "    }\n",
       "\n",
       "    .dataframe thead th {\n",
       "        text-align: right;\n",
       "    }\n",
       "</style>\n",
       "<table border=\"1\" class=\"dataframe\">\n",
       "  <thead>\n",
       "    <tr style=\"text-align: right;\">\n",
       "      <th></th>\n",
       "      <th>N</th>\n",
       "      <th>P</th>\n",
       "      <th>K</th>\n",
       "      <th>temperature</th>\n",
       "      <th>humidity</th>\n",
       "      <th>ph</th>\n",
       "      <th>rainfall</th>\n",
       "      <th>label</th>\n",
       "    </tr>\n",
       "  </thead>\n",
       "  <tbody>\n",
       "    <tr>\n",
       "      <th>0</th>\n",
       "      <td>90</td>\n",
       "      <td>42</td>\n",
       "      <td>43</td>\n",
       "      <td>20.879744</td>\n",
       "      <td>82.002744</td>\n",
       "      <td>6.502985</td>\n",
       "      <td>202.935536</td>\n",
       "      <td>rice</td>\n",
       "    </tr>\n",
       "    <tr>\n",
       "      <th>1</th>\n",
       "      <td>85</td>\n",
       "      <td>58</td>\n",
       "      <td>41</td>\n",
       "      <td>21.770462</td>\n",
       "      <td>80.319644</td>\n",
       "      <td>7.038096</td>\n",
       "      <td>226.655537</td>\n",
       "      <td>rice</td>\n",
       "    </tr>\n",
       "    <tr>\n",
       "      <th>2</th>\n",
       "      <td>60</td>\n",
       "      <td>55</td>\n",
       "      <td>44</td>\n",
       "      <td>23.004459</td>\n",
       "      <td>82.320763</td>\n",
       "      <td>7.840207</td>\n",
       "      <td>263.964248</td>\n",
       "      <td>rice</td>\n",
       "    </tr>\n",
       "    <tr>\n",
       "      <th>3</th>\n",
       "      <td>74</td>\n",
       "      <td>35</td>\n",
       "      <td>40</td>\n",
       "      <td>26.491096</td>\n",
       "      <td>80.158363</td>\n",
       "      <td>6.980401</td>\n",
       "      <td>242.864034</td>\n",
       "      <td>rice</td>\n",
       "    </tr>\n",
       "    <tr>\n",
       "      <th>4</th>\n",
       "      <td>78</td>\n",
       "      <td>42</td>\n",
       "      <td>42</td>\n",
       "      <td>20.130175</td>\n",
       "      <td>81.604873</td>\n",
       "      <td>7.628473</td>\n",
       "      <td>262.717340</td>\n",
       "      <td>rice</td>\n",
       "    </tr>\n",
       "  </tbody>\n",
       "</table>\n",
       "</div>"
      ],
      "text/plain": [
       "    N   P   K  temperature   humidity        ph    rainfall label\n",
       "0  90  42  43    20.879744  82.002744  6.502985  202.935536  rice\n",
       "1  85  58  41    21.770462  80.319644  7.038096  226.655537  rice\n",
       "2  60  55  44    23.004459  82.320763  7.840207  263.964248  rice\n",
       "3  74  35  40    26.491096  80.158363  6.980401  242.864034  rice\n",
       "4  78  42  42    20.130175  81.604873  7.628473  262.717340  rice"
      ]
     },
     "execution_count": 4,
     "metadata": {},
     "output_type": "execute_result"
    }
   ],
   "source": [
    "# lets check the head of the dataset\n",
    "data.head()"
   ]
  },
  {
   "cell_type": "code",
   "execution_count": 5,
   "id": "bc56f8ab",
   "metadata": {},
   "outputs": [
    {
     "data": {
      "text/plain": [
       "N              0\n",
       "P              0\n",
       "K              0\n",
       "temperature    0\n",
       "humidity       0\n",
       "ph             0\n",
       "rainfall       0\n",
       "label          0\n",
       "dtype: int64"
      ]
     },
     "execution_count": 5,
     "metadata": {},
     "output_type": "execute_result"
    }
   ],
   "source": [
    "# lets check if there is any missing values present in the dataset\n",
    "data.isnull().sum()"
   ]
  },
  {
   "cell_type": "code",
   "execution_count": 6,
   "id": "ce252b22",
   "metadata": {},
   "outputs": [
    {
     "data": {
      "text/plain": [
       "rice           100\n",
       "maize          100\n",
       "jute           100\n",
       "cotton         100\n",
       "coconut        100\n",
       "papaya         100\n",
       "orange         100\n",
       "apple          100\n",
       "muskmelon      100\n",
       "watermelon     100\n",
       "grapes         100\n",
       "mango          100\n",
       "banana         100\n",
       "pomegranate    100\n",
       "lentil         100\n",
       "blackgram      100\n",
       "mungbean       100\n",
       "mothbeans      100\n",
       "pigeonpeas     100\n",
       "kidneybeans    100\n",
       "chickpea       100\n",
       "coffee         100\n",
       "Name: label, dtype: int64"
      ]
     },
     "execution_count": 6,
     "metadata": {},
     "output_type": "execute_result"
    }
   ],
   "source": [
    "# lets check the Crops present in dataset\n",
    "data['label'].value_counts()"
   ]
  },
  {
   "cell_type": "code",
   "execution_count": 7,
   "id": "1c1d2db7",
   "metadata": {},
   "outputs": [
    {
     "name": "stdout",
     "output_type": "stream",
     "text": [
      "Average Ratio of Nitrogen in the Soil: 50.55\n",
      "Average Ratio of Phosphorus in the Soil: 53.36\n",
      "Average Ratio of Potassium in the Soil: 48.15\n",
      "Average Temperature in Celcius: 25.62\n",
      "Average Relative Humidity in %: 71.48\n",
      "Average PH value of the Soil: 6.47\n",
      "Average Rainfall in mm: 103.46\n"
     ]
    }
   ],
   "source": [
    "# lets check the summary for all the crops\n",
    "print(\"Average Ratio of Nitrogen in the Soil: {0:.2f}\".format(data['N'].mean()))\n",
    "print(\"Average Ratio of Phosphorus in the Soil: {0:.2f}\".format(data['P'].mean()))\n",
    "print(\"Average Ratio of Potassium in the Soil: {0:.2f}\".format(data['K'].mean()))\n",
    "print(\"Average Temperature in Celcius: {0:.2f}\".format(data['temperature'].mean()))\n",
    "print(\"Average Relative Humidity in %: {0:.2f}\".format(data['humidity'].mean()))\n",
    "print(\"Average PH value of the Soil: {0:.2f}\".format(data['ph'].mean()))\n",
    "print(\"Average Rainfall in mm: {0:.2f}\".format(data['rainfall'].mean()))  "
   ]
  },
  {
   "cell_type": "code",
   "execution_count": 8,
   "id": "18c29038",
   "metadata": {},
   "outputs": [
    {
     "data": {
      "application/vnd.jupyter.widget-view+json": {
       "model_id": "46723deb76784a5d8f31986b41d2bcad",
       "version_major": 2,
       "version_minor": 0
      },
      "text/plain": [
       "interactive(children=(Dropdown(description='crops', options=('rice', 'maize', 'jute', 'cotton', 'coconut', 'pa…"
      ]
     },
     "metadata": {},
     "output_type": "display_data"
    }
   ],
   "source": [
    "# lets check the summary Statistics for each of the crops\n",
    "\n",
    "@interact\n",
    "def summary(crops = list(data['label'].value_counts().index)):\n",
    "    X = data[data['label'] == crops]\n",
    "    print(\"*************************************************\")\n",
    "    print(\"Statistic for Nitrogen\")\n",
    "    print(\"Minimum Nitrogen required:\", X['N'].min())\n",
    "    print(\"Average Nitrogen required:\", X['N'].mean())\n",
    "    print(\"Maximum Nitrogen required:\", X['N'].max())\n",
    "    print(\"*************************************************\")\n",
    "    print(\"Statistic for Phosphorus\")\n",
    "    print(\"Minimum Phosphorus required:\", X['P'].min())\n",
    "    print(\"Average Phosphorus required:\", X['P'].mean())\n",
    "    print(\"Maximum Phosphorus required:\", X['P'].max())\n",
    "    print(\"*************************************************\")\n",
    "    print(\"Statistic for Potassium\")\n",
    "    print(\"Minimum Potassium required:\", X['K'].min())\n",
    "    print(\"Average Potassium required:\", X['K'].mean())\n",
    "    print(\"Maximum Potassium required:\", X['K'].max())\n",
    "    print(\"*************************************************\")\n",
    "    print(\"Statistic for Temprature\")\n",
    "    print(\"Minimum Temprature required:\", X['temperature'].min())\n",
    "    print(\"Average Temprature required:\", X['temperature'].mean())\n",
    "    print(\"Maximum Temprature required:\", X['temperature'].max())\n",
    "    print(\"*************************************************\")\n",
    "    print(\"Statistic for Humidity\")\n",
    "    print(\"Minimum Humidity required:\", X['humidity'].min())\n",
    "    print(\"Average Humidity required:\", X['humidity'].mean())\n",
    "    print(\"Maximum Humidity required:\", X['humidity'].max())\n",
    "    print(\"*************************************************\")\n",
    "    print(\"Statistic for PH\")\n",
    "    print(\"Minimum PH required:\", X['ph'].min())\n",
    "    print(\"Average PH required:\", X['ph'].mean())\n",
    "    print(\"Maximum PH required:\", X['ph'].max())\n",
    "    print(\"*************************************************\")\n",
    "    print(\"Statistic for Rainfall\")\n",
    "    print(\"Minimum Rainfall required:\", X['rainfall'].min())\n",
    "    print(\"Average Rainfall required:\", X['rainfall'].mean())\n",
    "    print(\"Maximum Rainfall required:\", X['rainfall'].max())"
   ]
  },
  {
   "cell_type": "code",
   "execution_count": 9,
   "id": "c4e0ea65",
   "metadata": {},
   "outputs": [
    {
     "data": {
      "application/vnd.jupyter.widget-view+json": {
       "model_id": "3a81e421dbe54c72a04ab8c0aa2e018d",
       "version_major": 2,
       "version_minor": 0
      },
      "text/plain": [
       "interactive(children=(Dropdown(description='conditions', options=('N', 'P', 'K', 'temperature', 'ph', 'humidit…"
      ]
     },
     "metadata": {},
     "output_type": "display_data"
    }
   ],
   "source": [
    "# lets compare the Average Requirement for each crops with selected condition\n",
    "\n",
    "@interact\n",
    "def compare(conditions = ['N','P','K','temperature','ph','humidity','rainfall']):\n",
    "    print('Average value for', conditions, 'is {0:.2f}'.format(data[conditions].mean()))\n",
    "    print('***************************************************************************')\n",
    "    print('Rice: {0:.2f}'.format(data[(data['label']=='rice')][conditions].mean()))\n",
    "    print('Black Grams: {0:.2f}'.format(data[(data['label']=='blackgram')][conditions].mean()))\n",
    "    print('Banana: {0:.2f}'.format(data[(data['label']=='banana')][conditions].mean()))\n",
    "    print('Jute: {0:.2f}'.format(data[(data['label']=='jute')][conditions].mean()))\n",
    "    print('Coconut: {0:.2f}'.format(data[(data['label']=='coconut')][conditions].mean())) \n",
    "    print('Apple: {0:.2f}'.format(data[(data['label']=='apple')][conditions].mean())) \n",
    "    print('Papaya: {0:.2f}'.format(data[(data['label']=='papaya')][conditions].mean())) \n",
    "    print('Muskmelon: {0:.2f}'.format(data[(data['label']=='muskmelon')][conditions].mean()))\n",
    "    print('Grapes: {0:.2f}'.format(data[(data['label']=='grapes')][conditions].mean()))  \n",
    "    print('Watermelon: {0:.2f}'.format(data[(data['label']=='watermelon')][conditions].mean()))  \n",
    "    print('Kidney Beans: {0:.2f}'.format(data[(data['label']=='kidneybeans')][conditions].mean())) \n",
    "    print('Mung Beans: {0:.2f}'.format(data[(data['label']=='mungbean')][conditions].mean()))  \n",
    "    print('Oranges: {0:.2f}'.format(data[(data['label']=='orange')][conditions].mean()))  \n",
    "    print('Chick Peas: {0:.2f}'.format(data[(data['label']=='chickpea')][conditions].mean()))  \n",
    "    print('Lentils: {0:.2f}'.format(data[(data['label']=='lentil')][conditions].mean())) \n",
    "    print('Cotton: {0:.2f}'.format(data[(data['label']=='cotton')][conditions].mean())) \n",
    "    print('Maize: {0:.2f}'.format(data[(data['label']=='maize')][conditions].mean()))  \n",
    "    print('Moth Beans: {0:.2f}'.format(data[(data['label']=='mothbeans')][conditions].mean())) \n",
    "    print('Pigeon Peas: {0:.2f}'.format(data[(data['label']=='pigeonpeas')][conditions].mean()))          \n",
    "    print('Mango: {0:.2f}'.format(data[(data['label']=='mango')][conditions].mean()))      \n",
    "    print('Pomegranate: {0:.2f}'.format(data[(data['label']=='pomegranate')][conditions].mean()))  \n",
    "    print('Coffee: {0:.2f}'.format(data[(data['label']=='coffee')][conditions].mean()))                  "
   ]
  },
  {
   "cell_type": "code",
   "execution_count": 11,
   "id": "c2031fc2",
   "metadata": {},
   "outputs": [
    {
     "data": {
      "application/vnd.jupyter.widget-view+json": {
       "model_id": "149d1ce642ff493f8a73623edbdb2d1b",
       "version_major": 2,
       "version_minor": 0
      },
      "text/plain": [
       "interactive(children=(Dropdown(description='conditions', options=('N', 'P', 'K', 'temperature', 'ph', 'humidit…"
      ]
     },
     "metadata": {},
     "output_type": "display_data"
    }
   ],
   "source": [
    "# lets make this function more intiutive\n",
    "\n",
    "@interact\n",
    "def compare(conditions = ['N','P','K','temperature','ph','humidity','rainfall']):\n",
    "    print('Crops which require greater than average', conditions,'\\n')\n",
    "    print(data[data[conditions] > data[conditions].mean()]['label'].unique())\n",
    "    print('*******************************************************************')\n",
    "    print('Crops which require less than average', conditions,'\\n')\n",
    "    print(data[data[conditions] <= data[conditions].mean()]['label'].unique())"
   ]
  },
  {
   "cell_type": "code",
   "execution_count": 12,
   "id": "95ae0b8a",
   "metadata": {},
   "outputs": [
    {
     "name": "stderr",
     "output_type": "stream",
     "text": [
      "/home/shristy/anaconda3/lib/python3.9/site-packages/seaborn/distributions.py:2619: FutureWarning: `distplot` is a deprecated function and will be removed in a future version. Please adapt your code to use either `displot` (a figure-level function with similar flexibility) or `histplot` (an axes-level function for histograms).\n",
      "  warnings.warn(msg, FutureWarning)\n",
      "/home/shristy/anaconda3/lib/python3.9/site-packages/seaborn/distributions.py:2619: FutureWarning: `distplot` is a deprecated function and will be removed in a future version. Please adapt your code to use either `displot` (a figure-level function with similar flexibility) or `histplot` (an axes-level function for histograms).\n",
      "  warnings.warn(msg, FutureWarning)\n",
      "/home/shristy/anaconda3/lib/python3.9/site-packages/seaborn/distributions.py:2619: FutureWarning: `distplot` is a deprecated function and will be removed in a future version. Please adapt your code to use either `displot` (a figure-level function with similar flexibility) or `histplot` (an axes-level function for histograms).\n",
      "  warnings.warn(msg, FutureWarning)\n",
      "/home/shristy/anaconda3/lib/python3.9/site-packages/seaborn/distributions.py:2619: FutureWarning: `distplot` is a deprecated function and will be removed in a future version. Please adapt your code to use either `displot` (a figure-level function with similar flexibility) or `histplot` (an axes-level function for histograms).\n",
      "  warnings.warn(msg, FutureWarning)\n",
      "/home/shristy/anaconda3/lib/python3.9/site-packages/seaborn/distributions.py:2619: FutureWarning: `distplot` is a deprecated function and will be removed in a future version. Please adapt your code to use either `displot` (a figure-level function with similar flexibility) or `histplot` (an axes-level function for histograms).\n",
      "  warnings.warn(msg, FutureWarning)\n",
      "/home/shristy/anaconda3/lib/python3.9/site-packages/seaborn/distributions.py:2619: FutureWarning: `distplot` is a deprecated function and will be removed in a future version. Please adapt your code to use either `displot` (a figure-level function with similar flexibility) or `histplot` (an axes-level function for histograms).\n",
      "  warnings.warn(msg, FutureWarning)\n",
      "/home/shristy/anaconda3/lib/python3.9/site-packages/seaborn/distributions.py:2619: FutureWarning: `distplot` is a deprecated function and will be removed in a future version. Please adapt your code to use either `displot` (a figure-level function with similar flexibility) or `histplot` (an axes-level function for histograms).\n",
      "  warnings.warn(msg, FutureWarning)\n"
     ]
    },
    {
     "data": {
      "image/png": "[encoded data removed]",
      "text/plain": [
       "<Figure size 432x288 with 7 Axes>"
      ]
     },
     "metadata": {
      "needs_background": "light"
     },
     "output_type": "display_data"
    }
   ],
   "source": [
    "# distribution plots for Agricultural Conditions\n",
    "\n",
    "plt.subplot(2,4,1)\n",
    "sns.distplot(data['N'], color='orange')\n",
    "plt.xlabel('Ratio of Nitrogen', fontsize=12)\n",
    "plt.grid()\n",
    "\n",
    "plt.subplot(2,4,2)\n",
    "sns.distplot(data['P'], color='red')\n",
    "plt.xlabel('Ratio of Phosphorus', fontsize=12)\n",
    "plt.grid()\n",
    "\n",
    "plt.subplot(2,4,3)\n",
    "sns.distplot(data['K'], color='darkblue')\n",
    "plt.xlabel('Ratio of Potassium', fontsize=12)\n",
    "plt.grid()\n",
    "\n",
    "plt.subplot(2,4,4)\n",
    "sns.distplot(data['temperature'], color='black')\n",
    "plt.xlabel('Temperature', fontsize=12)\n",
    "plt.grid()\n",
    "\n",
    "plt.subplot(2,4,5)\n",
    "sns.distplot(data['rainfall'], color='grey')\n",
    "plt.xlabel('Rainfall', fontsize=12)\n",
    "plt.grid()\n",
    "\n",
    "plt.subplot(2,4,6)\n",
    "sns.distplot(data['humidity'], color='lightgreen')\n",
    "plt.xlabel('Humidity', fontsize=12)\n",
    "plt.grid()\n",
    "\n",
    "plt.subplot(2,4,7)\n",
    "sns.distplot(data['ph'], color='darkgreen')\n",
    "plt.xlabel('PH level', fontsize=12)\n",
    "plt.grid()\n",
    "\n",
    "plt.suptitle('Distributions of Agricultural Conditions', fontsize=20)\n",
    "plt.show()"
   ]
  },
  {
   "cell_type": "code",
   "execution_count": 13,
   "id": "2c05fb55",
   "metadata": {},
   "outputs": [
    {
     "name": "stdout",
     "output_type": "stream",
     "text": [
      "Some interesing patterns\n",
      "********************************\n",
      "Crops which requires very high Ratio of Nitrogen content in soil: ['cotton']\n",
      "Crops which requires very high Ratio of Phosphorus content in soil: ['grapes' 'apple']\n",
      "Crops which requires very high Ratio of Potassium content in soil: ['grapes' 'apple']\n",
      "Crops which requires very high Rainfall: ['rice' 'papaya' 'coconut']\n",
      "Crops which requires very low temperature: ['grapes']\n",
      "Crops which requires very high temperature: ['grapes' 'papaya']\n",
      "Crops which requires very low humidity: ['chickpea' 'kidneybeans']\n",
      "Crops which requires very low ph: ['mothbeans']\n",
      "Crops which requires very high ph: ['mothbeans']\n"
     ]
    }
   ],
   "source": [
    "# lets find out some interesting facts by filtering out data\n",
    "\n",
    "print('Some interesing patterns')\n",
    "print('********************************')\n",
    "print('Crops which requires very high Ratio of Nitrogen content in soil:', data[data['N'] > 120]['label'].unique())\n",
    "print('Crops which requires very high Ratio of Phosphorus content in soil:', data[data['P'] > 100]['label'].unique())\n",
    "print('Crops which requires very high Ratio of Potassium content in soil:', data[data['K'] > 200]['label'].unique())\n",
    "print('Crops which requires very high Rainfall:', data[data['rainfall'] > 200]['label'].unique())\n",
    "print('Crops which requires very low temperature:', data[data['temperature'] < 10]['label'].unique())\n",
    "print('Crops which requires very high temperature:', data[data['temperature'] > 40]['label'].unique())\n",
    "print('Crops which requires very low humidity:', data[data['humidity'] < 20]['label'].unique())\n",
    "print('Crops which requires very low ph:', data[data['ph'] < 4]['label'].unique())\n",
    "print('Crops which requires very high ph:', data[data['ph'] > 9]['label'].unique())"
   ]
  },
  {
   "cell_type": "code",
   "execution_count": 14,
   "id": "5fc7c2b2",
   "metadata": {},
   "outputs": [
    {
     "name": "stdout",
     "output_type": "stream",
     "text": [
      "Summer Crops\n",
      "['pigeonpeas' 'mothbeans' 'blackgram' 'mango' 'grapes' 'orange' 'papaya']\n",
      "**************************************************\n",
      "Winter Crops\n",
      "['maize' 'pigeonpeas' 'lentil' 'pomegranate' 'grapes' 'orange']\n",
      "**************************************************\n",
      "Rainy Crops\n",
      "['rice' 'papaya' 'coconut']\n"
     ]
    }
   ],
   "source": [
    "# lets find out which crops can only be grown in Summer, Winter & Rainy season\n",
    "\n",
    "print('Summer Crops')\n",
    "print(data[(data['temperature'] > 30) & (data['humidity'] > 50)]['label'].unique())\n",
    "print('**************************************************')\n",
    "print('Winter Crops')\n",
    "print(data[(data['temperature'] < 20) & (data['humidity'] > 30)]['label'].unique())\n",
    "print('**************************************************')\n",
    "print('Rainy Crops')\n",
    "print(data[(data['rainfall'] > 200) & (data['humidity'] > 30)]['label'].unique())"
   ]
  },
  {
   "cell_type": "code",
   "execution_count": 16,
   "id": "0ba50d33",
   "metadata": {},
   "outputs": [
    {
     "name": "stdout",
     "output_type": "stream",
     "text": [
      "(2200, 7)\n"
     ]
    }
   ],
   "source": [
    "# Clutering analysis using KMean algo. -- to check crops that have similar climatic conditions to grow\n",
    "\n",
    "from sklearn.cluster import KMeans\n",
    "\n",
    "# removing the labels column\n",
    "x = data.drop(['label'], axis=1)\n",
    "\n",
    "# selecting all the values of the data\n",
    "x = x.values\n",
    "\n",
    "# checking the shape\n",
    "print(x.shape)"
   ]
  },
  {
   "cell_type": "code",
   "execution_count": 17,
   "id": "69d2b108",
   "metadata": {},
   "outputs": [
    {
     "data": {
      "image/png": "[encoded data removed]",
      "text/plain": [
       "<Figure size 720x288 with 1 Axes>"
      ]
     },
     "metadata": {
      "needs_background": "light"
     },
     "output_type": "display_data"
    }
   ],
   "source": [
    "# lets determine the optimun No. of clusters within the dataset using elbow method\n",
    "\n",
    "plt.rcParams['figure.figsize'] = (10,4)\n",
    "\n",
    "wcss = []\n",
    "for i in range(1,11):\n",
    "    km = KMeans(n_clusters = i, init = 'k-means++', max_iter = 300, n_init = 10, random_state = 0)\n",
    "    km.fit(x) \n",
    "    wcss.append(km.inertia_)\n",
    "    \n",
    "# lets plot the results\n",
    "plt.plot(range(1, 11), wcss)\n",
    "plt.title('The Elbow Method', fontsize = 20)\n",
    "plt.xlabel('No. of Clusters')\n",
    "plt.ylabel('wcss')\n",
    "plt.show()\n",
    "\n",
    "# as a result we will get 2 points elbow that is 3 & 4 -- in this scenarios we will select last elbow point."
   ]
  },
  {
   "cell_type": "code",
   "execution_count": 18,
   "id": "1ffb6b36",
   "metadata": {},
   "outputs": [
    {
     "name": "stdout",
     "output_type": "stream",
     "text": [
      "Lets check the Results After Applying the K Means Clustering Analysis \n",
      "\n",
      "Crops in First Cluster: ['maize' 'chickpea' 'kidneybeans' 'pigeonpeas' 'mothbeans' 'mungbean'\n",
      " 'blackgram' 'lentil' 'pomegranate' 'mango' 'orange' 'papaya' 'coconut']\n",
      "****************************************************************\n",
      "Crops in Second Cluster: ['maize' 'banana' 'watermelon' 'muskmelon' 'papaya' 'cotton' 'coffee']\n",
      "****************************************************************\n",
      "Crops in Third Cluster: ['grapes' 'apple']\n",
      "****************************************************************\n",
      "Crops in Forth Cluster: ['rice' 'pigeonpeas' 'papaya' 'coconut' 'jute' 'coffee']\n"
     ]
    }
   ],
   "source": [
    "# lets implement the K Means algorithm to perform clustering analysis\n",
    "km = KMeans(n_clusters = 4, init = 'k-means++', max_iter = 300, n_init = 10, random_state = 0)\n",
    "y_means = km.fit_predict(x)\n",
    "\n",
    "# lets find out the Results\n",
    "a = data['label']\n",
    "y_means = pd.DataFrame(y_means)\n",
    "z = pd.concat([y_means, a], axis = 1)\n",
    "z = z.rename(columns = {0: 'cluster'})\n",
    "\n",
    "#lets check the clusters of each crops\n",
    "print('Lets check the Results After Applying the K Means Clustering Analysis \\n')\n",
    "print('Crops in First Cluster:', z[z['cluster'] == 0]['label'].unique())\n",
    "print('****************************************************************')\n",
    "print('Crops in Second Cluster:', z[z['cluster'] == 1]['label'].unique())\n",
    "print('****************************************************************')\n",
    "print('Crops in Third Cluster:', z[z['cluster'] == 2]['label'].unique())\n",
    "print('****************************************************************')\n",
    "print('Crops in Forth Cluster:', z[z['cluster'] == 3]['label'].unique())"
   ]
  },
  {
   "cell_type": "code",
   "execution_count": 19,
   "id": "7a7c9088",
   "metadata": {},
   "outputs": [
    {
     "name": "stdout",
     "output_type": "stream",
     "text": [
      "Shape of x: (2200, 7)\n",
      "Shape of y: (2200,)\n"
     ]
    }
   ],
   "source": [
    "# Lets split the dataset for Predictive Modelling\n",
    "\n",
    "y = data['label']\n",
    "x = data.drop(['label'], axis = 1)\n",
    "\n",
    "print(\"Shape of x:\", x.shape)\n",
    "print(\"Shape of y:\", y.shape)"
   ]
  },
  {
   "cell_type": "code",
   "execution_count": 20,
   "id": "2efaea47",
   "metadata": {},
   "outputs": [
    {
     "name": "stdout",
     "output_type": "stream",
     "text": [
      "The Shape of x train (1760, 7)\n",
      "The Shape of x test (440, 7)\n",
      "The Shape of y train (1760,)\n",
      "The Shape of y test (440,)\n"
     ]
    }
   ],
   "source": [
    "# Lets create Training & Testing Sets for Validation of Results\n",
    "from sklearn.model_selection import train_test_split\n",
    "\n",
    "x_train, x_test, y_train, y_test = train_test_split(x, y, test_size = 0.2, random_state = 0)\n",
    "\n",
    "print(\"The Shape of x train\", x_train.shape)\n",
    "print(\"The Shape of x test\", x_test.shape)\n",
    "print(\"The Shape of y train\", y_train.shape)\n",
    "print(\"The Shape of y test\", y_test.shape)"
   ]
  },
  {
   "cell_type": "code",
   "execution_count": 39,
   "id": "5f7df122",
   "metadata": {},
   "outputs": [
    {
     "name": "stderr",
     "output_type": "stream",
     "text": [
      "/home/shristy/anaconda3/lib/python3.9/site-packages/sklearn/linear_model/_logistic.py:814: ConvergenceWarning: lbfgs failed to converge (status=1):\n",
      "STOP: TOTAL NO. of ITERATIONS REACHED LIMIT.\n",
      "\n",
      "Increase the number of iterations (max_iter) or scale the data as shown in:\n",
      "    https://scikit-learn.org/stable/modules/preprocessing.html\n",
      "Please also refer to the documentation for alternative solver options:\n",
      "    https://scikit-learn.org/stable/modules/linear_model.html#logistic-regression\n",
      "  n_iter_i = _check_optimize_result(\n"
     ]
    }
   ],
   "source": [
    "# Lets create a Predictive Model\n",
    "\n",
    "from sklearn.linear_model import LogisticRegression\n",
    "\n",
    "model = LogisticRegression()\n",
    "model.fit(x_train,y_train)\n",
    "y_pred = model.predict(x_test)"
   ]
  },
  {
   "cell_type": "code",
   "execution_count": 40,
   "id": "03e8ee76",
   "metadata": {},
   "outputs": [
    {
     "data": {
      "image/png": "[encoded data removed]",
      "text/plain": [
       "<Figure size 720x720 with 2 Axes>"
      ]
     },
     "metadata": {
      "needs_background": "light"
     },
     "output_type": "display_data"
    }
   ],
   "source": [
    "# Lets evaluate the Model Performance\n",
    "from sklearn.metrics import confusion_matrix\n",
    "\n",
    "# Lets print the Confusion matrix first\n",
    "plt.rcParams['figure.figsize']=(10,10)\n",
    "cm = confusion_matrix(y_test,y_pred)\n",
    "sns.heatmap(cm, annot = True, cmap = 'Wistia')\n",
    "plt.title('Confusion Matrix for Logistic Regression', fontsize = 15)\n",
    "plt.show()"
   ]
  },
  {
   "cell_type": "code",
   "execution_count": 41,
   "id": "ad4579f3",
   "metadata": {},
   "outputs": [
    {
     "ename": "NameError",
     "evalue": "name 'classification_report' is not defined",
     "output_type": "error",
     "traceback": [
      "\u001b[0;31m---------------------------------------------------------------------------\u001b[0m",
      "\u001b[0;31mNameError\u001b[0m                                 Traceback (most recent call last)",
      "Input \u001b[0;32mIn [41]\u001b[0m, in \u001b[0;36m<cell line: 2>\u001b[0;34m()\u001b[0m\n\u001b[1;32m      1\u001b[0m \u001b[38;5;66;03m# Lets print the classification report \u001b[39;00m\n\u001b[0;32m----> 2\u001b[0m cr \u001b[38;5;241m=\u001b[39m \u001b[43mclassification_report\u001b[49m(y_test,y_pred)\n\u001b[1;32m      3\u001b[0m \u001b[38;5;28mprint\u001b[39m(cr)\n",
      "\u001b[0;31mNameError\u001b[0m: name 'classification_report' is not defined"
     ]
    }
   ],
   "source": [
    "# Lets print the classification report \n",
    "cr = classification_report(y_test,y_pred)\n",
    "print(cr)"
   ]
  },
  {
   "cell_type": "code",
   "execution_count": 36,
   "id": "93fab52d",
   "metadata": {},
   "outputs": [
    {
     "data": {
      "text/html": [
       "<div>\n",
       "<style scoped>\n",
       "    .dataframe tbody tr th:only-of-type {\n",
       "        vertical-align: middle;\n",
       "    }\n",
       "\n",
       "    .dataframe tbody tr th {\n",
       "        vertical-align: top;\n",
       "    }\n",
       "\n",
       "    .dataframe thead th {\n",
       "        text-align: right;\n",
       "    }\n",
       "</style>\n",
       "<table border=\"1\" class=\"dataframe\">\n",
       "  <thead>\n",
       "    <tr style=\"text-align: right;\">\n",
       "      <th></th>\n",
       "      <th>N</th>\n",
       "      <th>P</th>\n",
       "      <th>K</th>\n",
       "      <th>temperature</th>\n",
       "      <th>humidity</th>\n",
       "      <th>ph</th>\n",
       "      <th>rainfall</th>\n",
       "      <th>label</th>\n",
       "    </tr>\n",
       "  </thead>\n",
       "  <tbody>\n",
       "    <tr>\n",
       "      <th>0</th>\n",
       "      <td>90</td>\n",
       "      <td>42</td>\n",
       "      <td>43</td>\n",
       "      <td>20.879744</td>\n",
       "      <td>82.002744</td>\n",
       "      <td>6.502985</td>\n",
       "      <td>202.935536</td>\n",
       "      <td>rice</td>\n",
       "    </tr>\n",
       "    <tr>\n",
       "      <th>1</th>\n",
       "      <td>85</td>\n",
       "      <td>58</td>\n",
       "      <td>41</td>\n",
       "      <td>21.770462</td>\n",
       "      <td>80.319644</td>\n",
       "      <td>7.038096</td>\n",
       "      <td>226.655537</td>\n",
       "      <td>rice</td>\n",
       "    </tr>\n",
       "    <tr>\n",
       "      <th>2</th>\n",
       "      <td>60</td>\n",
       "      <td>55</td>\n",
       "      <td>44</td>\n",
       "      <td>23.004459</td>\n",
       "      <td>82.320763</td>\n",
       "      <td>7.840207</td>\n",
       "      <td>263.964248</td>\n",
       "      <td>rice</td>\n",
       "    </tr>\n",
       "    <tr>\n",
       "      <th>3</th>\n",
       "      <td>74</td>\n",
       "      <td>35</td>\n",
       "      <td>40</td>\n",
       "      <td>26.491096</td>\n",
       "      <td>80.158363</td>\n",
       "      <td>6.980401</td>\n",
       "      <td>242.864034</td>\n",
       "      <td>rice</td>\n",
       "    </tr>\n",
       "    <tr>\n",
       "      <th>4</th>\n",
       "      <td>78</td>\n",
       "      <td>42</td>\n",
       "      <td>42</td>\n",
       "      <td>20.130175</td>\n",
       "      <td>81.604873</td>\n",
       "      <td>7.628473</td>\n",
       "      <td>262.717340</td>\n",
       "      <td>rice</td>\n",
       "    </tr>\n",
       "  </tbody>\n",
       "</table>\n",
       "</div>"
      ],
      "text/plain": [
       "    N   P   K  temperature   humidity        ph    rainfall label\n",
       "0  90  42  43    20.879744  82.002744  6.502985  202.935536  rice\n",
       "1  85  58  41    21.770462  80.319644  7.038096  226.655537  rice\n",
       "2  60  55  44    23.004459  82.320763  7.840207  263.964248  rice\n",
       "3  74  35  40    26.491096  80.158363  6.980401  242.864034  rice\n",
       "4  78  42  42    20.130175  81.604873  7.628473  262.717340  rice"
      ]
     },
     "execution_count": 36,
     "metadata": {},
     "output_type": "execute_result"
    }
   ],
   "source": [
    "# Lets check the head of dataset\n",
    "data.head()"
   ]
  },
  {
   "cell_type": "code",
   "execution_count": 37,
   "id": "4f9e4a4b",
   "metadata": {},
   "outputs": [
    {
     "name": "stdout",
     "output_type": "stream",
     "text": [
      "The Suggested Crop for given Climatic Condition is: ['rice']\n"
     ]
    },
    {
     "name": "stderr",
     "output_type": "stream",
     "text": [
      "/home/shristy/anaconda3/lib/python3.9/site-packages/sklearn/base.py:450: UserWarning: X does not have valid feature names, but LogisticRegression was fitted with feature names\n",
      "  warnings.warn(\n"
     ]
    }
   ],
   "source": [
    "prediction = model.predict((np.array([[90,\n",
    "                                       40,\n",
    "                                       40,\n",
    "                                       20,\n",
    "                                       80,\n",
    "                                       7,\n",
    "                                       200]])))\n",
    "print('The Suggested Crop for given Climatic Condition is:', prediction)"
   ]
  },
  {
   "cell_type": "code",
   "execution_count": null,
   "id": "7ff534bb",
   "metadata": {},
   "outputs": [],
   "source": []
  }
 ],
 "metadata": {
  "kernelspec": {
   "display_name": "Python 3 (ipykernel)",
   "language": "python",
   "name": "python3"
  },
  "language_info": {
   "codemirror_mode": {
    "name": "ipython",
    "version": 3
   },
   "file_extension": ".py",
   "mimetype": "text/x-python",
   "name": "python",
   "nbconvert_exporter": "python",
   "pygments_lexer": "ipython3",
   "version": "3.9.12"
  }
 },
 "nbformat": 4,
 "nbformat_minor": 5
}
